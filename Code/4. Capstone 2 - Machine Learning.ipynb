{
 "cells": [
  {
   "cell_type": "markdown",
   "metadata": {},
   "source": [
    "## Capstone 2 Project: Prediction of WAR in MLB players"
   ]
  },
  {
   "cell_type": "code",
   "execution_count": 1,
   "metadata": {
    "scrolled": false
   },
   "outputs": [],
   "source": [
    "import csv\n",
    "import pandas as pd\n",
    "import numpy as np\n",
    "import matplotlib.pyplot as plt\n",
    "from sklearn.svm import SVR\n",
    "from sklearn.model_selection import train_test_split, cross_val_score, cross_validate\n",
    "from sklearn.feature_selection import SelectFromModel, SelectKBest, chi2, RFE\n",
    "from sklearn.metrics import mean_squared_error, r2_score, mean_absolute_error\n",
    "import sklearn\n",
    "\n",
    "\n",
    "# disable warnings\n",
    "import warnings\n",
    "warnings.filterwarnings('ignore') \n",
    "\n",
    "\n",
    "csvfile = 'capstone_2_df.csv'\n",
    "\n",
    "mlb_df = pd.read_csv(csvfile)\n",
    "mlb_df.drop(['SampleID.1', 'POS.1', 'Def_WP', 'Def_ZR'], axis=1, inplace=True)\n",
    "\n",
    "pd.set_option('display.max_columns', 100)\n"
   ]
  },
  {
   "cell_type": "code",
   "execution_count": 2,
   "metadata": {},
   "outputs": [],
   "source": [
    "# normalizing specific numeric features\n",
    "from sklearn import preprocessing\n",
    "\n",
    "# pulling out features that will be normalized\n",
    "feats_to_normalize = ['AGE', 'G', 'GS', 'PA', 'AB', 'R', 'H', '1B', '2B', '3B', 'HR', 'TB', 'BB', 'IBB', 'SO', 'SF', 'SH', 'RBI', 'DP', 'SB', 'CS', 'DRC+', 'DRC+ SD', 'BRR', 'InnOuts', 'Def_PO', 'Def_A', 'Def_E', 'Def_DP', 'Def_PB', 'Def_SB', 'Def_CS', 'Def_DRAA', 'Def_FRAA']\n",
    "mlb_df_norm_feats = pd.DataFrame(mlb_df, columns = feats_to_normalize)\n",
    "mlb_df_no_norm_feats = mlb_df.drop(columns = feats_to_normalize)\n",
    "\n",
    "# normalizing features\n",
    "min_max_scaler = preprocessing.MinMaxScaler()\n",
    "normalized_feats = min_max_scaler.fit_transform(mlb_df_norm_feats)\n",
    "normalized_feats = pd.DataFrame(normalized_feats, columns = feats_to_normalize, index = mlb_df_no_norm_feats.index)\n",
    "\n",
    "# creating new dataframe by combining back normalized and non-normalized features\n",
    "mlb_df_normalized = pd.concat([mlb_df_no_norm_feats, normalized_feats], axis = 1)\n",
    "\n",
    "# creating dummy variables for categorical data\n",
    "categ_feats = ['POS', 'teamID', 'League']\n",
    "mlb_df_normalized = pd.get_dummies(mlb_df_normalized, columns = categ_feats) \n",
    "\n",
    "# dropping NaN rows\n",
    "mlb_df_normalized.drop(pd.isnull(mlb_df_normalized).any(1).nonzero()[0], axis=0, inplace=True)\n",
    "\n",
    "# train test split\n",
    "#X = mlb_df_normalized.drop(['BWARP', 'SampleID', 'NAME', 'playerID', 'lahmanID', 'R', 'H', 'RBI', 'HR', 'AVG', 'OBP', 'SLG', 'OPS', 'TB', 'BB', 'IBB'], axis=1)\n",
    "X = mlb_df_normalized.drop(['BWARP', 'SampleID', 'NAME', 'playerID', 'lahmanID'], axis=1)\n",
    "y = mlb_df_normalized.loc[:,'BWARP']\n",
    "X_train, X_test, y_train, y_test = train_test_split(X, y, test_size = 0.2)\n",
    "\n",
    "# features list\n",
    "features_list = list(X.columns)\n"
   ]
  },
  {
   "cell_type": "code",
   "execution_count": 3,
   "metadata": {},
   "outputs": [],
   "source": [
    "# function for Mean Absolute Percentage Error\n",
    "\n",
    "def mean_absolute_percentage_error(y_true, y_pred): \n",
    "    y_true, y_pred = np.array(y_true), np.array(y_pred)\n",
    "    \n",
    "    #y_true_median = np.median(y_true[y_true > 0])   # to address when y_true values are equal to 0\n",
    "    y_true_median = np.median(y_true)\n",
    "    y_true[y_true == 0] = .1\n",
    "\n",
    "    return np.mean(np.abs((y_true - y_pred) / y_true)) * 100"
   ]
  },
  {
   "cell_type": "code",
   "execution_count": 4,
   "metadata": {},
   "outputs": [],
   "source": [
    "# function to print out scores\n",
    "\n",
    "def scoring(y_train_true, y_train_predict, y_test_true, y_test_predict, classifier):\n",
    "    print(classifier, 'model scores:\\n')\n",
    "    \n",
    "    # Root Mean Square Error\n",
    "    print('RMSE for train data:', mean_squared_error(y_train_true, y_train_predict).round(4))\n",
    "    print('RMSE for test data:', mean_squared_error(y_test_true, y_test_predict).round(4), '\\n')\n",
    "    \n",
    "    # Variance Score\n",
    "    print('R2 Variance Score for train data: ', r2_score(y_train_true, y_train_predict).round(4))\n",
    "    print('R2 Variance Score for test data: ', r2_score(y_test_true, y_test_predict).round(4), '\\n')\n",
    "    \n",
    "    # Mean Absolute Error\n",
    "    print('MAE for train data: ', mean_absolute_error(y_train_true, y_train_predict).round(4))\n",
    "    print('MAE for test data: ', mean_absolute_error(y_test_true, y_test_predict).round(4), '\\n')\n",
    "    \n",
    "    # Mean Absolute Percentage Error\n",
    "    print('MAPE for train data: ', mean_absolute_percentage_error(y_train_true, y_train_predict).round(4), '%')\n",
    "    print('MAPE for test data: ', mean_absolute_percentage_error(y_test_true, y_test_predict).round(4), '%', '\\n')"
   ]
  },
  {
   "cell_type": "code",
   "execution_count": 6,
   "metadata": {
    "scrolled": false
   },
   "outputs": [
    {
     "name": "stdout",
     "output_type": "stream",
     "text": [
      "Random Forest model scores:\n",
      "\n",
      "RMSE for train data: 0.0346\n",
      "RMSE for test data: 0.2312 \n",
      "\n",
      "R2 Variance Score for train data:  0.9876\n",
      "R2 Variance Score for test data:  0.9177 \n",
      "\n",
      "MAE for train data:  0.1208\n",
      "MAE for test data:  0.3157 \n",
      "\n",
      "MAPE for train data:  23.6481 %\n",
      "MAPE for test data:  53.7247 % \n",
      "\n"
     ]
    },
    {
     "data": {
      "image/png": "[encoded data removed]",
      "text/plain": [
       "<Figure size 432x288 with 1 Axes>"
      ]
     },
     "metadata": {
      "needs_background": "light"
     },
     "output_type": "display_data"
    },
    {
     "data": {
      "image/png": "[encoded data removed]",
      "text/plain": [
       "<Figure size 432x288 with 1 Axes>"
      ]
     },
     "metadata": {
      "needs_background": "light"
     },
     "output_type": "display_data"
    },
    {
     "name": "stdout",
     "output_type": "stream",
     "text": [
      "CPU times: user 19min 46s, sys: 3.88 s, total: 19min 49s\n",
      "Wall time: 19min 58s\n"
     ]
    }
   ],
   "source": [
    "%%time\n",
    "# random forest regression\n",
    "\n",
    "from sklearn.ensemble import RandomForestRegressor\n",
    "from sklearn.model_selection import RandomizedSearchCV\n",
    "    \n",
    "param_grid_rf = {'n_estimators': np.arange(100, 150, 25),\n",
    "                 'max_features': ['sqrt'],\n",
    "                 'criterion': ['mae']} \n",
    "\n",
    "rf = RandomForestRegressor()\n",
    "rf_random_grid = RandomizedSearchCV(estimator=rf, param_distributions=param_grid_rf, cv=3)\n",
    "rf_random_grid.fit(X_train, y_train)\n",
    "\n",
    "rf_train_predict = rf_random_grid.predict(X_train)\n",
    "rf_test_predict = rf_random_grid.predict(X_test)\n",
    "\n",
    "scoring(y_train, rf_train_predict, y_test, rf_test_predict, 'Random Forest')\n",
    "\n",
    "# plotting residuals for training set\n",
    "plt.hist(rf_train_predict - y_train, bins=50)\n",
    "plt.title('Random Forest: Plot of train set residuals')\n",
    "plt.xlabel('Deviation')\n",
    "plt.ylabel('Frequency')\n",
    "plt.xlim(-1.5, 1.5)\n",
    "plt.ylim(0, 3000)\n",
    "plt.show()\n",
    "\n",
    "# plotting residuals for testing set\n",
    "plt.hist(rf_test_predict - y_test, bins=50)\n",
    "plt.title('Random Forest: Plot of test set residuals')\n",
    "plt.xlabel('Deviation')\n",
    "plt.ylabel('Frequency')\n",
    "plt.xlim(-1.5, 1.5)\n",
    "plt.ylim(0, 3000)\n",
    "plt.show()"
   ]
  },
  {
   "cell_type": "code",
   "execution_count": 7,
   "metadata": {},
   "outputs": [
    {
     "name": "stdout",
     "output_type": "stream",
     "text": [
      "Random Forest Best Parameters: {'n_estimators': 100, 'max_features': 'sqrt', 'criterion': 'mae'}\n"
     ]
    }
   ],
   "source": [
    "print('Random Forest Best Parameters:', rf_random_grid.best_params_)"
   ]
  },
  {
   "cell_type": "code",
   "execution_count": 8,
   "metadata": {
    "scrolled": false
   },
   "outputs": [
    {
     "name": "stdout",
     "output_type": "stream",
     "text": [
      "XGBoost model scores:\n",
      "\n",
      "RMSE for train data: 0.022\n",
      "RMSE for test data: 0.0437 \n",
      "\n",
      "R2 Variance Score for train data:  0.9921\n",
      "R2 Variance Score for test data:  0.9844 \n",
      "\n",
      "MAE for train data:  0.1084\n",
      "MAE for test data:  0.1451 \n",
      "\n",
      "MAPE for train data:  26.0184 %\n",
      "MAPE for test data:  29.7779 % \n",
      "\n"
     ]
    },
    {
     "data": {
      "image/png": "[encoded data removed]",
      "text/plain": [
       "<Figure size 432x288 with 1 Axes>"
      ]
     },
     "metadata": {
      "needs_background": "light"
     },
     "output_type": "display_data"
    },
    {
     "data": {
      "image/png": "[encoded data removed]",
      "text/plain": [
       "<Figure size 432x288 with 1 Axes>"
      ]
     },
     "metadata": {
      "needs_background": "light"
     },
     "output_type": "display_data"
    },
    {
     "name": "stdout",
     "output_type": "stream",
     "text": [
      "CPU times: user 4min 8s, sys: 2.66 s, total: 4min 11s\n",
      "Wall time: 4min 19s\n"
     ]
    }
   ],
   "source": [
    "%%time\n",
    "# XGBoost\n",
    "\n",
    "import xgboost as xgb\n",
    "from xgboost.sklearn import XGBRegressor\n",
    "from sklearn.metrics import mean_squared_error\n",
    "\n",
    "param_grid_xgb = {'n_estimators': np.arange(100, 150, 25),\n",
    "                 'max_depth': np.arange(5, 8, 1),\n",
    "                 'min_child': np.arange(1, 5, 1),\n",
    "                 'learning_rate': np.arange(.1, .3, .1),\n",
    "                 'min_child_weight': np.arange(1, 3, 1)} \n",
    "\n",
    "xgb_reg = XGBRegressor(objective='reg:linear')\n",
    "xgb_reg_grid = RandomizedSearchCV(xgb_reg, param_distributions=param_grid_xgb, cv=5)\n",
    "xgb_reg_grid.fit(X_train, y_train)\n",
    "\n",
    "xgb_train_predict = xgb_reg_grid.predict(X_train)\n",
    "xgb_test_predict = xgb_reg_grid.predict(X_test)\n",
    "\n",
    "scoring(y_train, xgb_train_predict, y_test, xgb_test_predict, 'XGBoost')\n",
    "\n",
    "# plotting residuals for training set\n",
    "plt.hist(xgb_train_predict - y_train, bins=50)\n",
    "plt.title('XGBoost: Plot of train set residuals')\n",
    "plt.xlabel('Deviation')\n",
    "plt.ylabel('Frequency')\n",
    "plt.xlim(-1.5, 1.5)\n",
    "plt.ylim(0, 3000)\n",
    "plt.show()\n",
    "\n",
    "# plotting residuals for testing set\n",
    "plt.hist(xgb_test_predict - y_test, bins=50)\n",
    "plt.title('XGBoost: Plot of test set residuals')\n",
    "plt.xlabel('Deviation')\n",
    "plt.ylabel('Frequency')\n",
    "plt.xlim(-1.5, 1.5)\n",
    "plt.ylim(0, 3000)\n",
    "plt.show()"
   ]
  },
  {
   "cell_type": "code",
   "execution_count": 9,
   "metadata": {},
   "outputs": [
    {
     "name": "stdout",
     "output_type": "stream",
     "text": [
      "XGBoost Best Parameters: {'n_estimators': 125, 'min_child_weight': 2, 'min_child': 4, 'max_depth': 5, 'learning_rate': 0.1}\n"
     ]
    }
   ],
   "source": [
    "print('XGBoost Best Parameters:', xgb_reg_grid.best_params_)"
   ]
  },
  {
   "cell_type": "code",
   "execution_count": 10,
   "metadata": {},
   "outputs": [
    {
     "name": "stdout",
     "output_type": "stream",
     "text": [
      "Random Forest most important features: Index(['R', 'TB', 'DRC+', 'BRR', 'Def_DRAA', 'Def_FRAA'], dtype='object')\n",
      "CPU times: user 31.9 s, sys: 295 ms, total: 32.2 s\n",
      "Wall time: 33.5 s\n"
     ]
    }
   ],
   "source": [
    "%%time\n",
    "# feature importance using Random Forest\n",
    "\n",
    "sel_rf = SelectFromModel(RandomForestRegressor(n_estimators = 100))\n",
    "sel_rf.fit(X_train, y_train)\n",
    "\n",
    "# what features are important\n",
    "sel_rf.get_support()\n",
    "\n",
    "# make a list and count of selected features\n",
    "selected_feat_rf = X_train.columns[(sel_rf.get_support())]\n",
    "len(selected_feat_rf)\n",
    "\n",
    "# print names of selected features\n",
    "print('Random Forest most important features:', selected_feat_rf)"
   ]
  },
  {
   "cell_type": "code",
   "execution_count": 11,
   "metadata": {
    "scrolled": true
   },
   "outputs": [
    {
     "name": "stdout",
     "output_type": "stream",
     "text": [
      "XGBoost most important features: Index(['R', 'TB', 'DRC+', 'BRR', 'InnOuts', 'Def_A', 'Def_CS', 'Def_DRAA',\n",
      "       'Def_FRAA', 'POS_1B'],\n",
      "      dtype='object')\n",
      "CPU times: user 2.52 s, sys: 27.9 ms, total: 2.55 s\n",
      "Wall time: 2.58 s\n"
     ]
    }
   ],
   "source": [
    "%%time\n",
    "# feature importance using XGBoost\n",
    "\n",
    "sel_xgb = SelectFromModel(XGBRegressor(n_estimators = 100))\n",
    "sel_xgb.fit(X_train, y_train)\n",
    "\n",
    "# what features are important\n",
    "sel_xgb.get_support()\n",
    "\n",
    "# make a list and count of selected features\n",
    "selected_feat_xgb = X_train.columns[(sel_xgb.get_support())]\n",
    "len(selected_feat_xgb)\n",
    "\n",
    "# print names of selected features\n",
    "print('XGBoost most important features:', selected_feat_xgb)"
   ]
  },
  {
   "cell_type": "code",
   "execution_count": 12,
   "metadata": {
    "scrolled": true
   },
   "outputs": [
    {
     "name": "stdout",
     "output_type": "stream",
     "text": [
      "Linear Regression most important features: Index(['AVG', 'PA', 'AB', 'H', 'HR', 'TB', 'DRC+', 'BRR', 'Def_A', 'Def_DP',\n",
      "       'Def_SB', 'Def_CS', 'Def_DRAA', 'Def_FRAA'],\n",
      "      dtype='object')\n",
      "CPU times: user 157 ms, sys: 11.4 ms, total: 168 ms\n",
      "Wall time: 112 ms\n"
     ]
    }
   ],
   "source": [
    "%%time\n",
    "# feature importance using Linear Regression\n",
    "\n",
    "sel_lr = SelectFromModel(LinearRegression())\n",
    "sel_lr.fit(X_train, y_train)\n",
    "\n",
    "# what features are important\n",
    "sel_lr.get_support()\n",
    "\n",
    "# make a list and count of selected features\n",
    "selected_feat_lr = X_train.columns[(sel_lr.get_support())]\n",
    "len(selected_feat_lr)\n",
    "\n",
    "# print names of selected features\n",
    "print('Linear Regression most important features:', selected_feat_lr)"
   ]
  },
  {
   "cell_type": "code",
   "execution_count": 13,
   "metadata": {
    "scrolled": true
   },
   "outputs": [
    {
     "name": "stdout",
     "output_type": "stream",
     "text": [
      "Model Performance: \n",
      "\n",
      "              RMSE Train RMSE Test R2 Train R2 Test MAE Train MAE Test  \\\n",
      "Linear Reg        0.0449    0.0454   0.9839  0.9838    0.1528   0.1569   \n",
      "Random Forest     0.0346    0.2312   0.9876  0.9177    0.1208   0.3157   \n",
      "XGBoost            0.022    0.0437   0.9921  0.9844    0.1084   0.1451   \n",
      "\n",
      "              MAPE Train MAPE Test  \n",
      "Linear Reg       38.719%   39.258%  \n",
      "Random Forest    23.648%   53.725%  \n",
      "XGBoost          26.018%   29.778%  \n"
     ]
    }
   ],
   "source": [
    "# table of all model performance\n",
    "model_results_dict = {'Linear Reg': [lin_reg_train_predict, lin_reg_test_predict], 'Random Forest': [rf_train_predict, rf_test_predict], 'XGBoost': [xgb_train_predict, xgb_test_predict]}\n",
    "\n",
    "model_results_df = pd.DataFrame(index=model_results_dict.keys(), columns=['RMSE Train', 'RMSE Test', 'R2 Train', 'R2 Test', 'MAE Train', 'MAE Test', 'MAPE Train', 'MAPE Test'])\n",
    "\n",
    "for key, value in model_results_dict.items():\n",
    "  \n",
    "    model_results_df.loc[key, 'RMSE Train'] = mean_squared_error(y_train, value[0]).round(4)\n",
    "    model_results_df.loc[key, 'RMSE Test'] = mean_squared_error(y_test, value[1]).round(4)\n",
    "    model_results_df.loc[key, 'R2 Train'] = r2_score(y_train, value[0]).round(4)\n",
    "    model_results_df.loc[key, 'R2 Test'] = r2_score(y_test, value[1]).round(4)\n",
    "    model_results_df.loc[key, 'MAE Train'] = mean_absolute_error(y_train, value[0]).round(4)\n",
    "    model_results_df.loc[key, 'MAE Test'] = mean_absolute_error(y_test, value[1]).round(4)\n",
    "    model_results_df.loc[key, 'MAPE Train'] = str(mean_absolute_percentage_error(y_train, value[0]).round(3)) + '%'\n",
    "    model_results_df.loc[key, 'MAPE Test'] = str(mean_absolute_percentage_error(y_test, value[1]).round(3)) + '%'\n",
    "    \n",
    "print('Model Performance: \\n')\n",
    "print(model_results_df)\n"
   ]
  }
 ],
 "metadata": {
  "kernelspec": {
   "display_name": "Python 3",
   "language": "python",
   "name": "python3"
  },
  "language_info": {
   "codemirror_mode": {
    "name": "ipython",
    "version": 3
   },
   "file_extension": ".py",
   "mimetype": "text/x-python",
   "name": "python",
   "nbconvert_exporter": "python",
   "pygments_lexer": "ipython3",
   "version": "3.6.4"
  }
 },
 "nbformat": 4,
 "nbformat_minor": 2
}
