{
 "cells": [
  {
   "cell_type": "markdown",
   "metadata": {},
   "source": [
    "## Capstone 2 Project: Prediction of WAR in MLB players"
   ]
  },
  {
   "cell_type": "code",
   "execution_count": 1,
   "metadata": {
    "scrolled": false
   },
   "outputs": [],
   "source": [
    "import csv\n",
    "import pandas as pd\n",
    "import numpy as np\n",
    "import matplotlib.pyplot as plt\n",
    "from sklearn.svm import SVR\n",
    "from sklearn.model_selection import train_test_split, cross_val_score, cross_validate\n",
    "from sklearn.feature_selection import SelectFromModel, SelectKBest, chi2, RFE\n",
    "from sklearn.metrics import mean_squared_error, r2_score, mean_absolute_error\n",
    "import sklearn\n",
    "\n",
    "\n",
    "# disable warnings\n",
    "import warnings\n",
    "warnings.filterwarnings('ignore') \n",
    "\n",
    "\n",
    "csvfile = 'capstone_2_df.csv'\n",
    "\n",
    "mlb_df = pd.read_csv(csvfile)\n",
    "mlb_df.drop(['SampleID.1', 'POS.1', 'Def_WP', 'Def_ZR'], axis=1, inplace=True)\n",
    "\n",
    "pd.set_option('display.max_columns', 100)\n"
   ]
  },
  {
   "cell_type": "code",
   "execution_count": 2,
   "metadata": {},
   "outputs": [],
   "source": [
    "# normalizing specific numeric features\n",
    "from sklearn import preprocessing\n",
    "\n",
    "# pulling out features that will be normalized\n",
    "feats_to_normalize = ['AGE', 'G', 'GS', 'PA', 'AB', 'R', 'H', '1B', '2B', '3B', 'HR', 'TB', 'BB', 'IBB', 'SO', 'SF', 'SH', 'RBI', 'DP', 'SB', 'CS', 'DRC+', 'DRC+ SD', 'BRR', 'InnOuts', 'Def_PO', 'Def_A', 'Def_E', 'Def_DP', 'Def_PB', 'Def_SB', 'Def_CS', 'Def_DRAA', 'Def_FRAA']\n",
    "mlb_df_norm_feats = pd.DataFrame(mlb_df, columns = feats_to_normalize)\n",
    "mlb_df_no_norm_feats = mlb_df.drop(columns = feats_to_normalize)\n",
    "\n",
    "# normalizing features\n",
    "min_max_scaler = preprocessing.MinMaxScaler()\n",
    "normalized_feats = min_max_scaler.fit_transform(mlb_df_norm_feats)\n",
    "normalized_feats = pd.DataFrame(normalized_feats, columns = feats_to_normalize, index = mlb_df_no_norm_feats.index)\n",
    "\n",
    "# creating new dataframe by combining back normalized and non-normalized features\n",
    "mlb_df_normalized = pd.concat([mlb_df_no_norm_feats, normalized_feats], axis = 1)\n",
    "\n",
    "# creating dummy variables for categorical data\n",
    "categ_feats = ['POS', 'teamID', 'League']\n",
    "mlb_df_normalized = pd.get_dummies(mlb_df_normalized, columns = categ_feats) \n",
    "\n",
    "# dropping NaN rows\n",
    "mlb_df_normalized.drop(pd.isnull(mlb_df_normalized).any(1).nonzero()[0], axis=0, inplace=True)\n",
    "\n",
    "# train test split\n",
    "#X = mlb_df_normalized.drop(['BWARP', 'SampleID', 'NAME', 'playerID', 'lahmanID'], axis=1)\n",
    "X = mlb_df_normalized.drop(['BWARP', 'SampleID', 'NAME', 'playerID', 'lahmanID', 'R', 'H', 'RBI', 'HR', 'AVG', 'OBP', 'SLG', 'OPS', 'TB', 'BB', 'IBB'], axis=1)\n",
    "y = mlb_df_normalized.loc[:,'BWARP']\n",
    "X_train, X_test, y_train, y_test = train_test_split(X, y, test_size = 0.2)\n",
    "\n",
    "# features list\n",
    "features_list = list(X.columns)\n"
   ]
  },
  {
   "cell_type": "code",
   "execution_count": 3,
   "metadata": {},
   "outputs": [],
   "source": [
    "# function for Mean Absolute Percentage Error\n",
    "\n",
    "def mean_absolute_percentage_error(y_true, y_pred): \n",
    "    y_true, y_pred = np.array(y_true), np.array(y_pred)\n",
    "    \n",
    "    #y_true_median = np.median(y_true[y_true > 0])   # to address when y_true values are equal to 0\n",
    "    y_true_median = np.median(y_true)\n",
    "    y_true[y_true == 0] = .1\n",
    "\n",
    "    return np.mean(np.abs((y_true - y_pred) / y_true)) * 100"
   ]
  },
  {
   "cell_type": "code",
   "execution_count": 4,
   "metadata": {},
   "outputs": [],
   "source": [
    "# function to print out scores\n",
    "\n",
    "def scoring(y_train_true, y_train_predict, y_test_true, y_test_predict, classifier):\n",
    "    print(classifier, 'model scores:\\n')\n",
    "    \n",
    "    # Root Mean Square Error\n",
    "    print('RMSE for train data:', mean_squared_error(y_train_true, y_train_predict).round(4))\n",
    "    print('RMSE for test data:', mean_squared_error(y_test_true, y_test_predict).round(4), '\\n')\n",
    "    \n",
    "    # Variance Score\n",
    "    print('R2 Variance Score for train data: ', r2_score(y_train_true, y_train_predict).round(4))\n",
    "    print('R2 Variance Score for test data: ', r2_score(y_test_true, y_test_predict).round(4), '\\n')\n",
    "    \n",
    "    # Mean Absolute Error\n",
    "    print('MAE for train data: ', mean_absolute_error(y_train_true, y_train_predict).round(4))\n",
    "    print('MAE for test data: ', mean_absolute_error(y_test_true, y_test_predict).round(4), '\\n')\n",
    "    \n",
    "    # Mean Absolute Percentage Error\n",
    "    print('MAPE for train data: ', mean_absolute_percentage_error(y_train_true, y_train_predict).round(4), '%')\n",
    "    print('MAPE for test data: ', mean_absolute_percentage_error(y_test_true, y_test_predict).round(4), '%', '\\n')"
   ]
  },
  {
   "cell_type": "code",
   "execution_count": 5,
   "metadata": {
    "scrolled": false
   },
   "outputs": [
    {
     "name": "stdout",
     "output_type": "stream",
     "text": [
      "Linear Regression model scores:\n",
      "\n",
      "RMSE for train data: 0.047\n",
      "RMSE for test data: 0.0454 \n",
      "\n",
      "R2 Variance Score for train data:  0.9831\n",
      "R2 Variance Score for test data:  0.9838 \n",
      "\n",
      "MAE for train data:  0.155\n",
      "MAE for test data:  0.1534 \n",
      "\n",
      "MAPE for train data:  39.3903 %\n",
      "MAPE for test data:  38.177 % \n",
      "\n"
     ]
    },
    {
     "data": {
      "image/png": "[encoded data removed]",
      "text/plain": [
       "<Figure size 432x288 with 1 Axes>"
      ]
     },
     "metadata": {
      "needs_background": "light"
     },
     "output_type": "display_data"
    },
    {
     "data": {
      "image/png": "[encoded data removed]",
      "text/plain": [
       "<Figure size 432x288 with 1 Axes>"
      ]
     },
     "metadata": {
      "needs_background": "light"
     },
     "output_type": "display_data"
    },
    {
     "name": "stdout",
     "output_type": "stream",
     "text": [
      "CPU times: user 1.14 s, sys: 121 ms, total: 1.27 s\n",
      "Wall time: 758 ms\n"
     ]
    }
   ],
   "source": [
    "%%time\n",
    "# baseline linear regression\n",
    "\n",
    "from sklearn.linear_model import LinearRegression\n",
    "\n",
    "lin_reg = LinearRegression(fit_intercept=False)   \n",
    "lin_reg.fit(X_train, y_train)\n",
    "\n",
    "lin_reg_train_predict = lin_reg.predict(X_train)\n",
    "lin_reg_test_predict = lin_reg.predict(X_test)\n",
    "\n",
    "scoring(y_train, lin_reg_train_predict, y_test, lin_reg_test_predict, 'Linear Regression')\n",
    "\n",
    "# plotting RMSE for training set\n",
    "plt.hist(lin_reg_train_predict - y_train, bins=50)\n",
    "plt.title('Linear Regression: Plot of train set residuals RMSE')\n",
    "plt.xlim(-1.5, 1.5)\n",
    "plt.ylim(0, 3000)\n",
    "plt.show()\n",
    "\n",
    "# plotting RMSE for testing set\n",
    "plt.hist(lin_reg_test_predict - y_test, bins=50)\n",
    "plt.title('Linear Regression: Plot of test set residuals RMSE')\n",
    "plt.xlim(-1.5, 1.5)\n",
    "plt.ylim(0, 3000)\n",
    "plt.show()\n"
   ]
  },
  {
   "cell_type": "code",
   "execution_count": 6,
   "metadata": {
    "scrolled": true
   },
   "outputs": [
    {
     "name": "stdout",
     "output_type": "stream",
     "text": [
      "Random Forest model scores:\n",
      "\n",
      "RMSE for train data: 0.0348\n",
      "RMSE for test data: 0.2276 \n",
      "\n",
      "R2 Variance Score for train data:  0.9875\n",
      "R2 Variance Score for test data:  0.9189 \n",
      "\n",
      "MAE for train data:  0.1198\n",
      "MAE for test data:  0.3137 \n",
      "\n",
      "MAPE for train data:  23.3052 %\n",
      "MAPE for test data:  54.7324 % \n",
      "\n",
      "CPU times: user 18min 41s, sys: 8.97 s, total: 18min 50s\n",
      "Wall time: 19min 37s\n"
     ]
    }
   ],
   "source": [
    "%%time\n",
    "# random forest regression\n",
    "\n",
    "from sklearn.ensemble import RandomForestRegressor\n",
    "from sklearn.model_selection import RandomizedSearchCV\n",
    "    \n",
    "param_grid_rf = {'n_estimators': np.arange(100, 150, 25),\n",
    "                 'max_features': ['sqrt'],\n",
    "                 'criterion': ['mae']} \n",
    "\n",
    "rf = RandomForestRegressor()\n",
    "rf_random_grid = RandomizedSearchCV(estimator=rf, param_distributions=param_grid_rf, cv=3)\n",
    "rf_random_grid.fit(X_train, y_train)\n",
    "\n",
    "rf_train_predict = rf_random_grid.predict(X_train)\n",
    "rf_test_predict = rf_random_grid.predict(X_test)\n",
    "\n",
    "scoring(y_train, rf_train_predict, y_test, rf_test_predict, 'Random Forest')"
   ]
  },
  {
   "cell_type": "code",
   "execution_count": 7,
   "metadata": {},
   "outputs": [
    {
     "name": "stdout",
     "output_type": "stream",
     "text": [
      "Random Forest Best Parameters: {'n_estimators': 100, 'max_features': 'sqrt', 'criterion': 'mae'}\n"
     ]
    }
   ],
   "source": [
    "print('Random Forest Best Parameters:', rf_random_grid.best_params_)"
   ]
  },
  {
   "cell_type": "code",
   "execution_count": 8,
   "metadata": {
    "scrolled": true
   },
   "outputs": [
    {
     "name": "stdout",
     "output_type": "stream",
     "text": [
      "XGBoost model scores:\n",
      "\n",
      "RMSE for train data: 0.0155\n",
      "RMSE for test data: 0.0364 \n",
      "\n",
      "R2 Variance Score for train data:  0.9944\n",
      "R2 Variance Score for test data:  0.987 \n",
      "\n",
      "MAE for train data:  0.0928\n",
      "MAE for test data:  0.1341 \n",
      "\n",
      "MAPE for train data:  24.1544 %\n",
      "MAPE for test data:  28.6853 % \n",
      "\n",
      "CPU times: user 3min 34s, sys: 2.03 s, total: 3min 36s\n",
      "Wall time: 3min 42s\n"
     ]
    }
   ],
   "source": [
    "%%time\n",
    "# XGBoost\n",
    "\n",
    "import xgboost as xgb\n",
    "from xgboost.sklearn import XGBRegressor\n",
    "from sklearn.metrics import mean_squared_error\n",
    "\n",
    "param_grid_xgb = {'n_estimators': np.arange(100, 150, 25),\n",
    "                 'max_depth': np.arange(5, 8, 1),\n",
    "                 'min_child': np.arange(1, 5, 1),\n",
    "                 'learning_rate': np.arange(.1, .3, .1),\n",
    "                 'min_child_weight': np.arange(1, 3, 1)} \n",
    "\n",
    "xgb_reg = XGBRegressor(objective='reg:linear')\n",
    "xgb_reg_grid = RandomizedSearchCV(xgb_reg, param_distributions=param_grid_xgb, cv=5)\n",
    "xgb_reg_grid.fit(X_train, y_train)\n",
    "\n",
    "xgb_train_predict = xgb_reg_grid.predict(X_train)\n",
    "xgb_test_predict = xgb_reg_grid.predict(X_test)\n",
    "\n",
    "scoring(y_train, xgb_train_predict, y_test, xgb_test_predict, 'XGBoost')"
   ]
  },
  {
   "cell_type": "code",
   "execution_count": 9,
   "metadata": {},
   "outputs": [
    {
     "name": "stdout",
     "output_type": "stream",
     "text": [
      "XGBoost Best Parameters: {'n_estimators': 125, 'min_child_weight': 1, 'min_child': 3, 'max_depth': 5, 'learning_rate': 0.2}\n"
     ]
    }
   ],
   "source": [
    "print('XGBoost Best Parameters:', xgb_reg_grid.best_params_)"
   ]
  },
  {
   "cell_type": "code",
   "execution_count": 10,
   "metadata": {},
   "outputs": [
    {
     "name": "stdout",
     "output_type": "stream",
     "text": [
      "Random Forest most important features: Index(['DRC+', 'BRR', 'InnOuts', 'Def_DRAA', 'Def_FRAA'], dtype='object')\n",
      "CPU times: user 23.5 s, sys: 239 ms, total: 23.7 s\n",
      "Wall time: 24.4 s\n"
     ]
    }
   ],
   "source": [
    "%%time\n",
    "# feature importance using Random Forest\n",
    "\n",
    "sel_rf = SelectFromModel(RandomForestRegressor(n_estimators = 100))\n",
    "sel_rf.fit(X_train, y_train)\n",
    "\n",
    "# what features are important\n",
    "sel_rf.get_support()\n",
    "\n",
    "# make a list and count of selected features\n",
    "selected_feat_rf = X_train.columns[(sel_rf.get_support())]\n",
    "len(selected_feat_rf)\n",
    "\n",
    "# print names of selected features\n",
    "print('Random Forest most important features:', selected_feat_rf)"
   ]
  },
  {
   "cell_type": "code",
   "execution_count": 11,
   "metadata": {
    "scrolled": true
   },
   "outputs": [
    {
     "name": "stdout",
     "output_type": "stream",
     "text": [
      "XGBoost most important features: Index(['PA', 'DRC+', 'BRR', 'InnOuts', 'Def_A', 'Def_SB', 'Def_CS', 'Def_DRAA',\n",
      "       'Def_FRAA', 'POS_1B'],\n",
      "      dtype='object')\n",
      "CPU times: user 2.23 s, sys: 27.4 ms, total: 2.26 s\n",
      "Wall time: 2.34 s\n"
     ]
    }
   ],
   "source": [
    "%%time\n",
    "# feature importance using XGBoost\n",
    "\n",
    "sel_xgb = SelectFromModel(XGBRegressor(n_estimators = 100))\n",
    "sel_xgb.fit(X_train, y_train)\n",
    "\n",
    "# what features are important\n",
    "sel_xgb.get_support()\n",
    "\n",
    "# make a list and count of selected features\n",
    "selected_feat_xgb = X_train.columns[(sel_xgb.get_support())]\n",
    "len(selected_feat_xgb)\n",
    "\n",
    "# print names of selected features\n",
    "print('XGBoost most important features:', selected_feat_xgb)"
   ]
  },
  {
   "cell_type": "code",
   "execution_count": 12,
   "metadata": {},
   "outputs": [
    {
     "name": "stdout",
     "output_type": "stream",
     "text": [
      "Linear Regression most important features: Index(['PA', 'DRC+', 'BRR', 'Def_A', 'Def_DP', 'Def_SB', 'Def_CS', 'Def_DRAA',\n",
      "       'Def_FRAA'],\n",
      "      dtype='object')\n",
      "CPU times: user 131 ms, sys: 51.6 ms, total: 183 ms\n",
      "Wall time: 160 ms\n"
     ]
    }
   ],
   "source": [
    "%%time\n",
    "# feature importance using Linear Regression\n",
    "\n",
    "sel_lr = SelectFromModel(LinearRegression())\n",
    "sel_lr.fit(X_train, y_train)\n",
    "\n",
    "# what features are important\n",
    "sel_lr.get_support()\n",
    "\n",
    "# make a list and count of selected features\n",
    "selected_feat_lr = X_train.columns[(sel_lr.get_support())]\n",
    "len(selected_feat_lr)\n",
    "\n",
    "# print names of selected features\n",
    "print('Linear Regression most important features:', selected_feat_lr)"
   ]
  }
 ],
 "metadata": {
  "kernelspec": {
   "display_name": "Python 3",
   "language": "python",
   "name": "python3"
  },
  "language_info": {
   "codemirror_mode": {
    "name": "ipython",
    "version": 3
   },
   "file_extension": ".py",
   "mimetype": "text/x-python",
   "name": "python",
   "nbconvert_exporter": "python",
   "pygments_lexer": "ipython3",
   "version": "3.6.4"
  }
 },
 "nbformat": 4,
 "nbformat_minor": 2
}
